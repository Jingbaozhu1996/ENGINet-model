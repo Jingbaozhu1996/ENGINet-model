{
 "cells": [
  {
   "cell_type": "code",
   "execution_count": 1,
   "metadata": {},
   "outputs": [
    {
     "data": {
      "text/plain": [
       "[]"
      ]
     },
     "execution_count": 1,
     "metadata": {},
     "output_type": "execute_result"
    }
   ],
   "source": [
    "import numpy as np\n",
    "import pandas as pd\n",
    "from datetime import date, timedelta\n",
    "import os\n",
    "import random\n",
    "import matplotlib.pyplot as plt\n",
    "from tqdm import tqdm\n",
    "from scipy.stats import skew, kurtosis\n",
    "\n",
    "from sklearn.preprocessing import StandardScaler\n",
    "from sklearn.metrics import mean_squared_error\n",
    "from tensorflow.keras import layers,Sequential,losses,optimizers,datasets\n",
    "\n",
    "import tensorflow as tf\n",
    "from tensorflow import keras\n",
    "from tensorflow.keras.layers import *\n",
    "from tensorflow.keras.models import *\n",
    "from tensorflow.keras.optimizers import *\n",
    "from tensorflow.keras.callbacks import *\n",
    "from tensorflow.keras import backend as K\n",
    "\n",
    "os.environ[\"CUDA_VISIBLE_DEVICES\"] = \"1\"\n",
    "tf.config.list_physical_devices('GPU')"
   ]
  },
  {
   "cell_type": "code",
   "execution_count": 2,
   "metadata": {},
   "outputs": [],
   "source": [
    "from keras.layers import add, ConvLSTM2D, Reshape, Dense, AveragePooling2D, Input, Conv2DTranspose, TimeDistributed, Dropout, Flatten\n",
    "from keras.callbacks import ModelCheckpoint, LearningRateScheduler\n",
    "from keras.layers import add, Reshape, Dense, Input, TimeDistributed, Dropout, Activation, LSTM, Conv1D, Cropping1D,GRU\n",
    "from keras.layers import MaxPooling1D, UpSampling1D, Cropping1D, SpatialDropout1D, Bidirectional, BatchNormalization \n",
    "from keras.models import Model, Sequential\n",
    "import keras\n",
    "from keras.models import Sequential\n",
    "from keras.layers.normalization import BatchNormalization\n",
    "from keras.layers.convolutional import Conv2D\n",
    "from keras.layers.convolutional import MaxPooling2D\n",
    "from keras.layers.core import Activation\n",
    "from keras.layers.core import Dropout\n",
    "from keras.layers.core import Dense\n",
    "from keras.layers import Flatten\n",
    "from keras.layers import Input\n",
    "from keras.models import Model\n",
    "from keras.callbacks import ModelCheckpoint, LearningRateScheduler\n",
    "from keras.callbacks import ReduceLROnPlateau\n",
    "from keras.callbacks import EarlyStopping\n",
    "from keras import metrics\n",
    "from keras.optimizers import Adam\n",
    "import matplotlib"
   ]
  },
  {
   "cell_type": "code",
   "execution_count": 3,
   "metadata": {},
   "outputs": [],
   "source": [
    "import scipy.io as scio\n",
    "import pandas as pd\n",
    "\n",
    "#input\n",
    "feature1 = r'\\Train and Test\\ACC_EW.mat'\n",
    "data1 = scio.loadmat(feature1)\n",
    "AA=data1['ACC_EW']\n",
    "A=AA[:,0:300]\n",
    "\n",
    "feature2 = r'\\Train and Test\\ACC_NS.mat'\n",
    "data2 = scio.loadmat(feature2)\n",
    "BB=data2['ACC_NS']\n",
    "B=BB[:,0:300]\n",
    "\n",
    "feature3 = r'\\Train and Test\\ACC_UD.mat'\n",
    "data3 = scio.loadmat(feature3)\n",
    "CC=data3['ACC_UD']\n",
    "C=CC[:,0:300]\n",
    "\n",
    "feature4 = r'\\Train and Test\\DIS_EW.mat'\n",
    "data4 = scio.loadmat(feature4)\n",
    "DD=data4['DIS_EW']\n",
    "D=DD[:,0:300]\n",
    "\n",
    "feature5 = r'\\Train and Test\\DIS_NS.mat'\n",
    "data5 = scio.loadmat(feature5)\n",
    "EE=data5['DIS_NS']\n",
    "E=EE[:,0:300]\n",
    "\n",
    "feature6 = r'\\Train and Test\\DIS_UD.mat'\n",
    "data6 = scio.loadmat(feature6)\n",
    "FF=data6['DIS_UD']\n",
    "F=FF[:,0:300]\n",
    "\n",
    "feature7 = r'\\Train and Test\\VEL_EW.mat'\n",
    "data7 = scio.loadmat(feature7)\n",
    "GG=data7['VEL_EW']\n",
    "G=GG[:,0:300]\n",
    "\n",
    "feature8 = r'\\Train and Test\\VEL_NS.mat'\n",
    "data8 = scio.loadmat(feature8)\n",
    "HH=data8['VEL_NS']\n",
    "H=HH[:,0:300]\n",
    "\n",
    "feature9 = r'\\Train and Test\\VEL_UD.mat'\n",
    "data9 = scio.loadmat(feature9)\n",
    "II=data9['VEL_UD']\n",
    "I=II[:,0:300]\n",
    "\n",
    "\n",
    "label = pd.read_csv(open(r'\\Train and Test\\Lable-XC.csv',encoding='UTF-8'))\n"
   ]
  },
  {
   "cell_type": "code",
   "execution_count": 5,
   "metadata": {},
   "outputs": [
    {
     "name": "stdout",
     "output_type": "stream",
     "text": [
      "(43171, 2700)\n",
      "[0.0294066]\n",
      "(43171, 1)\n"
     ]
    }
   ],
   "source": [
    "raw_data1=np.hstack((A,B))\n",
    "raw_data2=np.hstack((raw_data1,C))\n",
    "raw_data3=np.hstack((raw_data2,D))\n",
    "raw_data4=np.hstack((raw_data3,E))\n",
    "raw_data5=np.hstack((raw_data4,F))\n",
    "raw_data6=np.hstack((raw_data5,G))\n",
    "raw_data7=np.hstack((raw_data6,H))\n",
    "x_data=np.hstack((raw_data7,I))\n",
    "\n",
    "print(x_data.shape)\n",
    "\n",
    "\n",
    "y_data=label.iloc[:,[2]].values  #知识嵌入\n",
    "#y_data=label.iloc[:,[12]].values    #导入数据  iloc通过行号获取行数据\n",
    "print(y_data[0])\n",
    "print(y_data.shape)"
   ]
  },
  {
   "cell_type": "code",
   "execution_count": 7,
   "metadata": {},
   "outputs": [],
   "source": [
    "from sklearn.model_selection import train_test_split  #random_state=21  24  26  27  65\n",
    "train_xx, test_xx, train_y, test_y = train_test_split(x_data, y_data, test_size=0.2, random_state=30)\n",
    "#print(train_xx.shape)   30 17.14  0.59\n",
    "#print(test_xx.shape)"
   ]
  },
  {
   "cell_type": "code",
   "execution_count": 8,
   "metadata": {},
   "outputs": [],
   "source": [
    "train_x=[]\n",
    "for i in range(len(train_xx)):\n",
    "    train_x.append(np.array(train_xx[i].reshape(9,1,300)).T)"
   ]
  },
  {
   "cell_type": "code",
   "execution_count": 9,
   "metadata": {},
   "outputs": [],
   "source": [
    "test_x=[]\n",
    "for i in range(len(test_xx)):\n",
    "    test_x.append(np.array(test_xx[i].reshape(9,1,300)).T)"
   ]
  },
  {
   "cell_type": "code",
   "execution_count": 10,
   "metadata": {},
   "outputs": [],
   "source": [
    "train_x=np.array(train_x)\n",
    "test_x=np.array(test_x)"
   ]
  },
  {
   "cell_type": "code",
   "execution_count": 11,
   "metadata": {},
   "outputs": [
    {
     "name": "stdout",
     "output_type": "stream",
     "text": [
      "0 34536\n",
      "1 300\n",
      "(34536, 300, 9)\n",
      "(34536, 1)\n"
     ]
    }
   ],
   "source": [
    "#3#  ##Reshaping\n",
    "train_x = np.reshape(train_x, (train_x.shape[0], 300, 9))\n",
    "test_x = np.reshape(test_x, (test_x.shape[0], 300, 9))\n",
    "print(\"0\",train_x.shape[0])\n",
    "print(\"1\",train_x.shape[1])\n",
    "print(train_x.shape)\n",
    "#print(train_x)\n",
    "print(train_y.shape)"
   ]
  },
  {
   "cell_type": "code",
   "execution_count": 14,
   "metadata": {},
   "outputs": [],
   "source": [
    "seed=50\n",
    "#50 17.20 1.32\n",
    "drop_rate = 0.2\n",
    "def get_model():\n",
    "\n",
    "    inp1 = Input(shape=(300, 9), name='input_layer') \n",
    "\n",
    "    e = Conv1D(64, 3, padding = 'same')(inp1) \n",
    "    e = Dropout(drop_rate)(e, training=True)\n",
    "    e = MaxPooling1D(4, padding='same')(e)\n",
    " \n",
    "    e = Conv1D(32, 3, padding = 'same')(e) \n",
    "    e = Dropout(drop_rate)(e, training=True)\n",
    "    e = MaxPooling1D(4, padding='same')(e)\n",
    "    \n",
    "\n",
    "    \n",
    "#    e = Bidirectional(GRU(100, return_sequences=True, dropout=0.0, recurrent_dropout=0.0))(e)\n",
    "#    e = Bidirectional(GRU(50, return_sequences=False, dropout=0.0, recurrent_dropout=0.0))(e)\n",
    "\n",
    "    e = Bidirectional(GRU(100, return_sequences=True, dropout=0.0, recurrent_dropout=0.0))(e)\n",
    "    e = Bidirectional(GRU(50, return_sequences=False, dropout=0.0, recurrent_dropout=0.0))(e)\n",
    "    \n",
    "\n",
    "    e = Dense(64, activation='relu')(e)\n",
    "    e = Dense(32, activation='relu')(e)\n",
    "    e = Dense(1)(e)\n",
    "    o = Activation('linear', name='output_layer')(e)\n",
    "    \n",
    "\n",
    "    #model = Model([inp_seq, inp_lap, inp_feat], out)  ,inpt2\n",
    "    rms = optimizers.Adam(lr=0.001, beta_1=0.9, beta_2=0.999, epsilon=1e-08)\n",
    "    model = Model(inp1, o)\n",
    "    model.compile(optimizer = rms, loss = 'mean_squared_error')\n",
    "\n",
    "    return model"
   ]
  },
  {
   "cell_type": "code",
   "execution_count": 15,
   "metadata": {},
   "outputs": [
    {
     "name": "stdout",
     "output_type": "stream",
     "text": [
      "Model: \"functional_1\"\n",
      "_________________________________________________________________\n",
      "Layer (type)                 Output Shape              Param #   \n",
      "=================================================================\n",
      "input_layer (InputLayer)     [(None, 300, 9)]          0         \n",
      "_________________________________________________________________\n",
      "conv1d (Conv1D)              (None, 300, 64)           1792      \n",
      "_________________________________________________________________\n",
      "dropout (Dropout)            (None, 300, 64)           0         \n",
      "_________________________________________________________________\n",
      "max_pooling1d (MaxPooling1D) (None, 75, 64)            0         \n",
      "_________________________________________________________________\n",
      "conv1d_1 (Conv1D)            (None, 75, 32)            6176      \n",
      "_________________________________________________________________\n",
      "dropout_1 (Dropout)          (None, 75, 32)            0         \n",
      "_________________________________________________________________\n",
      "max_pooling1d_1 (MaxPooling1 (None, 19, 32)            0         \n",
      "_________________________________________________________________\n",
      "bidirectional (Bidirectional (None, 19, 200)           80400     \n",
      "_________________________________________________________________\n",
      "bidirectional_1 (Bidirection (None, 100)               75600     \n",
      "_________________________________________________________________\n",
      "dense (Dense)                (None, 64)                6464      \n",
      "_________________________________________________________________\n",
      "dense_1 (Dense)              (None, 32)                2080      \n",
      "_________________________________________________________________\n",
      "dense_2 (Dense)              (None, 1)                 33        \n",
      "_________________________________________________________________\n",
      "output_layer (Activation)    (None, 1)                 0         \n",
      "=================================================================\n",
      "Total params: 172,545\n",
      "Trainable params: 172,545\n",
      "Non-trainable params: 0\n",
      "_________________________________________________________________\n"
     ]
    }
   ],
   "source": [
    "model = get_model()\n",
    "model.summary() "
   ]
  },
  {
   "cell_type": "code",
   "execution_count": 16,
   "metadata": {},
   "outputs": [],
   "source": [
    "### TRAIN A MODEL FOR EACH STORES USING ALL THE DATA AVAILALBE FROM OTHER STORES ###\n",
    "\n",
    "\n",
    "tf.random.set_seed(seed)\n",
    "os.environ['PYTHONHASHSEED'] = str(33)\n",
    "np.random.seed(seed)\n",
    "random.seed(seed)\n",
    "\n",
    "session_conf = tf.compat.v1.ConfigProto(\n",
    "    intra_op_parallelism_threads=1, \n",
    "    inter_op_parallelism_threads=1\n",
    ")\n",
    "sess = tf.compat.v1.Session(\n",
    "    graph=tf.compat.v1.get_default_graph(), \n",
    "    config=session_conf\n",
    ")\n",
    "tf.compat.v1.keras.backend.set_session(sess)\n",
    "\n",
    "pred_train_all=np.zeros(train_y.shape)\n",
    "pred_test_all = np.zeros(test_y.shape)\n",
    "#pred_zhenli_all = np.zeros(y_zhenli.shape)\n",
    "\n",
    "    \n",
    "#es = EarlyStopping(patience=10, verbose=1, min_delta=0.001, monitor='val_loss', mode='auto', restore_best_weights=True)\n"
   ]
  },
  {
   "cell_type": "code",
   "execution_count": 17,
   "metadata": {},
   "outputs": [
    {
     "name": "stdout",
     "output_type": "stream",
     "text": [
      "Epoch 1/300\n",
      "61/61 [==============================] - 25s 417ms/step - loss: 0.6115 - val_loss: 0.2564\n",
      "Epoch 2/300\n",
      "61/61 [==============================] - 24s 387ms/step - loss: 0.2424 - val_loss: 0.2457\n",
      "Epoch 3/300\n",
      "61/61 [==============================] - 23s 383ms/step - loss: 0.2202 - val_loss: 0.2191\n",
      "Epoch 4/300\n",
      "61/61 [==============================] - 22s 357ms/step - loss: 0.2097 - val_loss: 0.2140\n",
      "Epoch 5/300\n",
      "61/61 [==============================] - 22s 357ms/step - loss: 0.1989 - val_loss: 0.2075\n",
      "Epoch 6/300\n",
      "61/61 [==============================] - 22s 369ms/step - loss: 0.1950 - val_loss: 0.2032\n",
      "Epoch 7/300\n",
      "61/61 [==============================] - 23s 371ms/step - loss: 0.1895 - val_loss: 0.1939\n",
      "Epoch 8/300\n",
      "61/61 [==============================] - 22s 357ms/step - loss: 0.1864 - val_loss: 0.1916\n",
      "Epoch 9/300\n",
      "61/61 [==============================] - 21s 352ms/step - loss: 0.1811 - val_loss: 0.1932\n",
      "Epoch 10/300\n",
      "61/61 [==============================] - 24s 396ms/step - loss: 0.1794 - val_loss: 0.1848\n",
      "Epoch 11/300\n",
      "61/61 [==============================] - 27s 445ms/step - loss: 0.1750 - val_loss: 0.1901\n",
      "Epoch 12/300\n",
      "61/61 [==============================] - 24s 401ms/step - loss: 0.1719 - val_loss: 0.1828\n",
      "Epoch 13/300\n",
      "61/61 [==============================] - 24s 401ms/step - loss: 0.1691 - val_loss: 0.1768\n",
      "Epoch 14/300\n",
      "61/61 [==============================] - 26s 427ms/step - loss: 0.1668 - val_loss: 0.1778\n",
      "Epoch 15/300\n",
      "61/61 [==============================] - 24s 401ms/step - loss: 0.1643 - val_loss: 0.1763\n",
      "Epoch 16/300\n",
      "61/61 [==============================] - 23s 380ms/step - loss: 0.1618 - val_loss: 0.1758\n",
      "Epoch 17/300\n",
      "61/61 [==============================] - 24s 399ms/step - loss: 0.1608 - val_loss: 0.1818\n",
      "Epoch 18/300\n",
      "61/61 [==============================] - 25s 416ms/step - loss: 0.1608 - val_loss: 0.1718\n",
      "Epoch 19/300\n",
      "61/61 [==============================] - 25s 411ms/step - loss: 0.1582 - val_loss: 0.1687\n",
      "Epoch 20/300\n",
      "61/61 [==============================] - 24s 388ms/step - loss: 0.1565 - val_loss: 0.1670\n",
      "Epoch 21/300\n",
      "61/61 [==============================] - 24s 398ms/step - loss: 0.1526 - val_loss: 0.1677\n",
      "Epoch 22/300\n",
      "61/61 [==============================] - 25s 410ms/step - loss: 0.1537 - val_loss: 0.1708\n",
      "Epoch 23/300\n",
      "61/61 [==============================] - 26s 418ms/step - loss: 0.1514 - val_loss: 0.1699\n",
      "Epoch 24/300\n",
      "61/61 [==============================] - 25s 413ms/step - loss: 0.1505 - val_loss: 0.1656\n",
      "Epoch 25/300\n",
      "61/61 [==============================] - 25s 417ms/step - loss: 0.1499 - val_loss: 0.1649\n",
      "Epoch 26/300\n",
      "61/61 [==============================] - 25s 408ms/step - loss: 0.1479 - val_loss: 0.1630\n",
      "Epoch 27/300\n",
      "61/61 [==============================] - 24s 392ms/step - loss: 0.1468 - val_loss: 0.1615\n",
      "Epoch 28/300\n",
      "61/61 [==============================] - 24s 399ms/step - loss: 0.1447 - val_loss: 0.1648\n",
      "Epoch 29/300\n",
      "61/61 [==============================] - 26s 426ms/step - loss: 0.1438 - val_loss: 0.1645\n",
      "Epoch 30/300\n",
      "61/61 [==============================] - 26s 433ms/step - loss: 0.1434 - val_loss: 0.1635\n",
      "Epoch 31/300\n",
      "61/61 [==============================] - 27s 439ms/step - loss: 0.1415 - val_loss: 0.1640\n",
      "Epoch 32/300\n",
      "61/61 [==============================] - 24s 393ms/step - loss: 0.1417 - val_loss: 0.1672\n",
      "Epoch 33/300\n",
      "61/61 [==============================] - 27s 445ms/step - loss: 0.1359 - val_loss: 0.1592\n",
      "Epoch 34/300\n",
      "61/61 [==============================] - 25s 415ms/step - loss: 0.1338 - val_loss: 0.1618\n",
      "Epoch 35/300\n",
      "61/61 [==============================] - 25s 403ms/step - loss: 0.1335 - val_loss: 0.1591\n",
      "Epoch 36/300\n",
      "61/61 [==============================] - 24s 399ms/step - loss: 0.1335 - val_loss: 0.1590\n",
      "Epoch 37/300\n",
      "61/61 [==============================] - 26s 420ms/step - loss: 0.1328 - val_loss: 0.1601\n",
      "Epoch 38/300\n",
      "61/61 [==============================] - 24s 395ms/step - loss: 0.1329 - val_loss: 0.1604\n",
      "Epoch 39/300\n",
      "61/61 [==============================] - 24s 389ms/step - loss: 0.1329 - val_loss: 0.1568\n",
      "Epoch 40/300\n",
      "61/61 [==============================] - 25s 406ms/step - loss: 0.1324 - val_loss: 0.1589\n",
      "Epoch 41/300\n",
      "61/61 [==============================] - 25s 404ms/step - loss: 0.1322 - val_loss: 0.1607\n",
      "Epoch 42/300\n",
      "61/61 [==============================] - 25s 405ms/step - loss: 0.1326 - val_loss: 0.1583\n",
      "Epoch 43/300\n",
      "61/61 [==============================] - 25s 408ms/step - loss: 0.1315 - val_loss: 0.1607\n",
      "Epoch 44/300\n",
      "61/61 [==============================] - 25s 413ms/step - loss: 0.1318 - val_loss: 0.1603\n",
      "Epoch 45/300\n",
      "61/61 [==============================] - 23s 379ms/step - loss: 0.1308 - val_loss: 0.1581\n",
      "Epoch 46/300\n",
      "61/61 [==============================] - 23s 370ms/step - loss: 0.1309 - val_loss: 0.1590\n",
      "Epoch 47/300\n",
      "61/61 [==============================] - 25s 413ms/step - loss: 0.1311 - val_loss: 0.1581\n",
      "Epoch 48/300\n",
      "61/61 [==============================] - 24s 392ms/step - loss: 0.1306 - val_loss: 0.1579\n",
      "Epoch 49/300\n",
      "61/61 [==============================] - 24s 399ms/step - loss: 0.1310 - val_loss: 0.1580\n"
     ]
    }
   ],
   "source": [
    "from keras.callbacks import EarlyStopping\n",
    "from keras.callbacks import ReduceLROnPlateau\n",
    "lr_reducer = ReduceLROnPlateau(monitor=\"val_loss\",\n",
    "                               factor=0.1,\n",
    "                                cooldown= 0,\n",
    "                                patience= 5,\n",
    "                                min_lr=0.1e-7)\n",
    "early_stopping_monitor = EarlyStopping(monitor= 'val_loss', patience = 10) #10  17.20 1.32\n",
    "callbacks = [lr_reducer, early_stopping_monitor]\n",
    "\n",
    "\n",
    "\n",
    "\n",
    "model = get_model()\n",
    "model.fit(train_x, train_y, epochs=300, batch_size=512,  \n",
    "            validation_split=0.1, callbacks=callbacks)  #256 ,train_physics  ,test_physics ,train_physics\n",
    "\n",
    "pred_train_all = model.predict(train_x).ravel()\n",
    "pred_test_all = model.predict(test_x).ravel()  ##ravel() 转换成1列\n",
    "\n",
    "\n",
    "#pred_valid_all = scaler_seq.inverse_transform(pred_valid_all)\n",
    "#reverse_valid = scaler_seq.inverse_transform(y_valid)\n",
    "#pred_test_all = scaler_seq.inverse_transform(pred_test_all)\n",
    "#reverse_test = scaler_seq.inverse_transform(y_test)"
   ]
  },
  {
   "cell_type": "code",
   "execution_count": 18,
   "metadata": {
    "scrolled": true
   },
   "outputs": [
    {
     "name": "stdout",
     "output_type": "stream",
     "text": [
      "训练标准差STD= 0.3651384170378888\n",
      "训练误差均值MEAN= -0.0018740474568369515\n",
      "训练平均绝对误差MAE= 0.2695680230071944\n",
      "训练RMSE= 0.3651432262151465\n",
      "训练MAPE= 166.92536775699617\n",
      "训练r2 score: 0.8495456748943908\n"
     ]
    },
    {
     "data": {
      "image/png": "[encoded data removed]",
      "text/plain": [
       "<Figure size 360x360 with 1 Axes>"
      ]
     },
     "metadata": {
      "needs_background": "light"
     },
     "output_type": "display_data"
    }
   ],
   "source": [
    "from sklearn import metrics\n",
    "from sklearn.metrics import r2_score\n",
    "print(\"训练标准差STD=\",np.std(pred_train_all-train_y.ravel()))\n",
    "print(\"训练误差均值MEAN=\",np.mean(pred_train_all-train_y.ravel()))\n",
    "print(\"训练平均绝对误差MAE=\",metrics.mean_absolute_error(pred_train_all, train_y.ravel()))\n",
    "print(\"训练RMSE=\",metrics.mean_squared_error(pred_train_all, train_y.ravel())**0.5)\n",
    "print(\"训练MAPE=\",np.mean(np.abs((train_y.ravel() - pred_train_all) / train_y.ravel())) * 100)\n",
    "print(\"训练r2 score:\", r2_score(train_y.ravel(), pred_train_all))\n",
    "\n",
    "\n",
    "plt.figure(figsize=(5, 5))\n",
    "plt.axis('equal')\n",
    "\n",
    "x3 = np.arange(-4, 5, 0.01)\n",
    "y3=x3\n",
    "plt.plot(x3, y3, \"black\")\n",
    "plt.plot(train_y.ravel(),pred_train_all,'.')\n",
    "plt.xlim(-4, 5)\n",
    "plt.ylim(-4, 5)\n",
    "plt.show()"
   ]
  },
  {
   "cell_type": "code",
   "execution_count": 18,
   "metadata": {},
   "outputs": [
    {
     "name": "stdout",
     "output_type": "stream",
     "text": [
      "(34536,)\n",
      "(34536, 1)\n"
     ]
    }
   ],
   "source": [
    "print(pred_train_all.shape)\n",
    "print(train_y.shape)"
   ]
  },
  {
   "cell_type": "code",
   "execution_count": 19,
   "metadata": {},
   "outputs": [
    {
     "name": "stdout",
     "output_type": "stream",
     "text": [
      "(34536, 1)\n",
      "(34536, 1)\n",
      "(34536, 2)\n"
     ]
    }
   ],
   "source": [
    "#########################保存训练结果####################################\n",
    "pred_train_all=pred_train_all.reshape(pred_train_all.shape[0],1)\n",
    "\n",
    "#y_score_tr=y_score_tr.reshape(y_score_tr.shape[0],1)\n",
    "print(pred_train_all.shape)\n",
    "print(train_y.shape)\n",
    "\n",
    "tr_result=np.concatenate((train_y,pred_train_all),axis=1)\n",
    "\n",
    "print(tr_result.shape)\n",
    "\n",
    "data_tr = pd.DataFrame(tr_result) #将数组转换为dataframe结构\n",
    "data_tr.columns=['True-LGIa','Pre-LGIa']\n",
    "writer_tr = pd.ExcelWriter(r'Result\\Ia\\3s\\Iatrain3.xls')   # 写入Excel文件\n",
    "\n",
    "data_tr.to_excel(writer_tr,float_format='%.5f',index=False)   ## ‘page_1’是写入excel的sheet名\n",
    "writer_tr.save()\n",
    "writer_tr.close()\n",
    "#########################保存训练结果####################################"
   ]
  },
  {
   "cell_type": "code",
   "execution_count": 20,
   "metadata": {},
   "outputs": [
    {
     "name": "stdout",
     "output_type": "stream",
     "text": [
      "测试标准差STD= 0.3822617383279356\n",
      "测试误差均值MEAN= -0.005515410723237856\n",
      "测试平均绝对误差MAE= 0.2821100785692017\n",
      "测试RMSE= 0.3823015254284778\n",
      "测试MAPE= 98.03762564801687\n",
      "测试r2 score: 0.8376056901532358\n"
     ]
    },
    {
     "data": {
      "image/png": "[encoded data removed]",
      "text/plain": [
       "<Figure size 360x360 with 1 Axes>"
      ]
     },
     "metadata": {
      "needs_background": "light"
     },
     "output_type": "display_data"
    }
   ],
   "source": [
    "print(\"测试标准差STD=\",np.std(pred_test_all-test_y.ravel()))\n",
    "print(\"测试误差均值MEAN=\",np.mean(pred_test_all-test_y.ravel()))\n",
    "print(\"测试平均绝对误差MAE=\",metrics.mean_absolute_error(pred_test_all, test_y.ravel()))\n",
    "print(\"测试RMSE=\",metrics.mean_squared_error(pred_test_all, test_y.ravel())**0.5)\n",
    "print(\"测试MAPE=\",np.mean(np.abs((test_y.ravel() - pred_test_all) / test_y.ravel())) * 100)\n",
    "print(\"测试r2 score:\", r2_score(test_y.ravel(), pred_test_all))\n",
    "\n",
    "\n",
    "plt.figure(figsize=(5, 5))\n",
    "plt.axis('equal')\n",
    "\n",
    "x3 = np.arange(-4, 5, 0.01)\n",
    "y3=x3\n",
    "plt.plot(x3, y3, \"black\")\n",
    "plt.plot(test_y.ravel(),pred_test_all,'.')\n",
    "plt.xlim(-4, 5)\n",
    "plt.ylim(-4, 5)\n",
    "plt.show()   "
   ]
  },
  {
   "cell_type": "code",
   "execution_count": 21,
   "metadata": {
    "scrolled": true
   },
   "outputs": [
    {
     "name": "stdout",
     "output_type": "stream",
     "text": [
      "(8635, 1)\n",
      "(8635, 1)\n",
      "(8635, 2)\n"
     ]
    }
   ],
   "source": [
    "#########################保存测试结果####################################\n",
    "pred_test_all=pred_test_all.reshape(pred_test_all.shape[0],1)\n",
    "\n",
    "print(pred_test_all.shape)\n",
    "print(test_y.shape)\n",
    "\n",
    "te_result=np.concatenate((test_y,pred_test_all),axis=1)\n",
    "\n",
    "print(te_result.shape)\n",
    "\n",
    "data_te = pd.DataFrame(te_result) #将数组转换为dataframe结构\n",
    "data_te.columns=['True-LGIa','Pre-LGIa']\n",
    "writer_te = pd.ExcelWriter(r'Result\\Ia\\3s\\Iatest3.xls')   # 写入Excel文件\n",
    "\n",
    "data_te.to_excel(writer_te,float_format='%.5f',index=False)   ## ‘page_1’是写入excel的sheet名\n",
    "writer_te.save()\n",
    "writer_te.close()\n",
    "#########################保存测试结果####################################"
   ]
  },
  {
   "cell_type": "code",
   "execution_count": 22,
   "metadata": {},
   "outputs": [],
   "source": [
    "#震例\n",
    "import scipy.io as scio\n",
    "import pandas as pd\n",
    "\n",
    "#input\n",
    "feature1z = r'independent datasets\\ACC_EW.mat'\n",
    "data1z = scio.loadmat(feature1z)\n",
    "AAz=data1z['ACC_EW']\n",
    "Az=AAz[:,0:300]\n",
    "\n",
    "feature2z = r'independent datasets\\ACC_NS.mat'\n",
    "data2z = scio.loadmat(feature2z)\n",
    "BBz=data2z['ACC_NS']\n",
    "Bz=BBz[:,0:300]\n",
    "\n",
    "feature3z = r'independent datasets\\ACC_UD.mat'\n",
    "data3z = scio.loadmat(feature3z)\n",
    "CCz=data3z['ACC_UD']\n",
    "Cz=CCz[:,0:300]\n",
    "\n",
    "feature4z = r'independent datasets\\DIS_EW.mat'\n",
    "data4z = scio.loadmat(feature4z)\n",
    "DDz=data4z['DIS_EW']\n",
    "Dz=DDz[:,0:300]\n",
    "\n",
    "feature5z = r'independent datasets\\DIS_NS.mat'\n",
    "data5z = scio.loadmat(feature5z)\n",
    "EEz=data5z['DIS_NS']\n",
    "Ez=EEz[:,0:300]\n",
    "\n",
    "feature6z = r'independent datasets\\DIS_UD.mat'\n",
    "data6z = scio.loadmat(feature6z)\n",
    "FFz=data6z['DIS_UD']\n",
    "Fz=FFz[:,0:300]\n",
    "\n",
    "feature7z = r'independent datasets\\VEL_EW.mat'\n",
    "data7z = scio.loadmat(feature7z)\n",
    "GGz=data7z['VEL_EW']\n",
    "Gz=GGz[:,0:300]\n",
    "\n",
    "feature8z = r'independent datasets\\VEL_NS.mat'\n",
    "data8z = scio.loadmat(feature8z)\n",
    "HHz=data8z['VEL_NS']\n",
    "Hz=HHz[:,0:300]\n",
    "\n",
    "feature9z = r'independent datasets\\VEL_UD.mat'\n",
    "data9z = scio.loadmat(feature9z)\n",
    "IIz=data9z['VEL_UD']\n",
    "Iz=IIz[:,0:300]\n",
    "\n",
    "\n",
    "labelz = pd.read_csv(open(r'independent datasets\\Lable-ZL.csv',encoding='UTF-8'))\n"
   ]
  },
  {
   "cell_type": "code",
   "execution_count": 23,
   "metadata": {},
   "outputs": [
    {
     "name": "stdout",
     "output_type": "stream",
     "text": [
      "[-1.46820275]\n",
      "(11615, 1)\n"
     ]
    }
   ],
   "source": [
    "raw_data1z=np.hstack((Az,Bz))\n",
    "raw_data2z=np.hstack((raw_data1z,Cz))\n",
    "raw_data3z=np.hstack((raw_data2z,Dz))\n",
    "raw_data4z=np.hstack((raw_data3z,Ez))\n",
    "raw_data5z=np.hstack((raw_data4z,Fz))\n",
    "raw_data6z=np.hstack((raw_data5z,Gz))\n",
    "raw_data7z=np.hstack((raw_data6z,Hz))\n",
    "x_dataz=np.hstack((raw_data7z,Iz))\n",
    "\n",
    "y_dataz=labelz.iloc[:,[2]].values  #知识嵌入\n",
    "#y_data=label.iloc[:,[12]].values    #导入数据  iloc通过行号获取行数据\n",
    "print(y_dataz[0])\n",
    "print(y_dataz.shape)"
   ]
  },
  {
   "cell_type": "code",
   "execution_count": 24,
   "metadata": {},
   "outputs": [],
   "source": [
    "zhenli_y=y_dataz"
   ]
  },
  {
   "cell_type": "code",
   "execution_count": 25,
   "metadata": {},
   "outputs": [],
   "source": [
    "zhenli_x=[]\n",
    "for i in range(len(x_dataz)):\n",
    "    zhenli_x.append(np.array(x_dataz[i].reshape(9,1,300)).T)"
   ]
  },
  {
   "cell_type": "code",
   "execution_count": 26,
   "metadata": {},
   "outputs": [],
   "source": [
    "zhenli_x=np.array(zhenli_x)"
   ]
  },
  {
   "cell_type": "code",
   "execution_count": 27,
   "metadata": {},
   "outputs": [],
   "source": [
    "zhenli_x = np.reshape(zhenli_x, (zhenli_x.shape[0], 300, 9))"
   ]
  },
  {
   "cell_type": "code",
   "execution_count": 28,
   "metadata": {},
   "outputs": [],
   "source": [
    "pred_zhenli_all = model.predict(zhenli_x).ravel()  ##ravel() 转换成1列"
   ]
  },
  {
   "cell_type": "code",
   "execution_count": 29,
   "metadata": {},
   "outputs": [
    {
     "name": "stdout",
     "output_type": "stream",
     "text": [
      "震例标准差STD= 0.4896349100269022\n",
      "震例误差均值MEAN= -0.09258165287288969\n",
      "震例平均绝对误差MAE= 0.3580374234343863\n",
      "震例RMSE= 0.4983108543527111\n",
      "震例MAPE= 183.61269993251804\n",
      "震例r2 score: 0.7741182533709232\n"
     ]
    },
    {
     "data": {
      "image/png": "[encoded data removed]",
      "text/plain": [
       "<Figure size 360x360 with 1 Axes>"
      ]
     },
     "metadata": {
      "needs_background": "light"
     },
     "output_type": "display_data"
    }
   ],
   "source": [
    "print(\"震例标准差STD=\",np.std(pred_zhenli_all-zhenli_y.ravel()))\n",
    "print(\"震例误差均值MEAN=\",np.mean(pred_zhenli_all-zhenli_y.ravel()))\n",
    "print(\"震例平均绝对误差MAE=\",metrics.mean_absolute_error(pred_zhenli_all, zhenli_y.ravel()))\n",
    "print(\"震例RMSE=\",metrics.mean_squared_error(pred_zhenli_all, zhenli_y.ravel())**0.5)\n",
    "print(\"震例MAPE=\",np.mean(np.abs((zhenli_y.ravel() - pred_zhenli_all) / zhenli_y.ravel())) * 100)\n",
    "print(\"震例r2 score:\", r2_score(zhenli_y.ravel(), pred_zhenli_all))\n",
    "\n",
    "\n",
    "plt.figure(figsize=(5, 5))\n",
    "plt.axis('equal')\n",
    "\n",
    "x3 = np.arange(-4, 5, 0.01)\n",
    "y3=x3\n",
    "plt.plot(x3, y3, \"black\")\n",
    "plt.plot(test_y.ravel(),pred_test_all,'.')\n",
    "plt.xlim(-4, 5)\n",
    "plt.ylim(-4, 5)\n",
    "plt.show() "
   ]
  },
  {
   "cell_type": "code",
   "execution_count": 30,
   "metadata": {},
   "outputs": [
    {
     "name": "stdout",
     "output_type": "stream",
     "text": [
      "(11615, 1)\n",
      "(11615, 1)\n",
      "(11615, 2)\n"
     ]
    }
   ],
   "source": [
    "#########################保存震例结果####################################\n",
    "pred_zhenli_all=pred_zhenli_all.reshape(pred_zhenli_all.shape[0],1)\n",
    "\n",
    "print(pred_zhenli_all.shape)\n",
    "print(zhenli_y.shape)\n",
    "\n",
    "tz_result=np.concatenate((zhenli_y,pred_zhenli_all),axis=1)\n",
    "\n",
    "print(tz_result.shape)\n",
    "\n",
    "data_tz = pd.DataFrame(tz_result) #将数组转换为dataframe结构\n",
    "data_tz.columns=['True-LGIa','Pre-LGIa']\n",
    "writer_tz = pd.ExcelWriter(r'Result\\Ia\\3s\\Iazhenli3.xls')   # 写入Excel文件\n",
    "\n",
    "data_tz.to_excel(writer_tz,float_format='%.5f',index=False)   ## ‘page_1’是写入excel的sheet名\n",
    "writer_tz.save()\n",
    "writer_tz.close()\n",
    "#########################保存震例结果####################################"
   ]
  },
  {
   "cell_type": "code",
   "execution_count": null,
   "metadata": {},
   "outputs": [],
   "source": []
  }
 ],
 "metadata": {
  "kernelspec": {
   "display_name": "Python 3",
   "language": "python",
   "name": "python3"
  },
  "language_info": {
   "codemirror_mode": {
    "name": "ipython",
    "version": 3
   },
   "file_extension": ".py",
   "mimetype": "text/x-python",
   "name": "python",
   "nbconvert_exporter": "python",
   "pygments_lexer": "ipython3",
   "version": "3.7.0"
  }
 },
 "nbformat": 4,
 "nbformat_minor": 2
}
